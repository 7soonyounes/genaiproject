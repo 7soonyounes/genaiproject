{
 "cells": [
  {
   "cell_type": "code",
   "execution_count": null,
   "metadata": {},
   "outputs": [
    {
     "ename": "",
     "evalue": "",
     "output_type": "error",
     "traceback": [
      "\u001b[1;31mFailed to start the Kernel. \n",
      "Traceback (most recent call last):\n",
      "  File \"/Users/aithassouneyouness/.vscode/extensions/ms-toolsai.jupyter-2022.3.1000901801/pythonFiles/vscode_datascience_helpers/daemon/daemon_python.py\", line 54, in _decorator\n",
      "    return func(self, *args, **kwargs)\n",
      "  File \"/Users/aithassouneyouness/.vscode/extensions/ms-toolsai.jupyter-2022.3.1000901801/pythonFiles/vscode_datascience_helpers/jupyter_daemon.py\", line 108, in m_exec_module_observable\n",
      "    self._start_notebook(args, cwd, env)\n",
      "    ~~~~~~~~~~~~~~~~~~~~^^^^^^^^^^^^^^^^\n",
      "  File \"/Users/aithassouneyouness/.vscode/extensions/ms-toolsai.jupyter-2022.3.1000901801/pythonFiles/vscode_datascience_helpers/jupyter_daemon.py\", line 154, in _start_notebook\n",
      "    from notebook import notebookapp as app\n",
      "ImportError: cannot import name 'notebookapp' from 'notebook' (/Library/Frameworks/Python.framework/Versions/3.13/lib/python3.13/site-packages/notebook/__init__.py)\n",
      "\n",
      "Failed to run jupyter as observable with args notebook --no-browser --notebook-dir=\"/Users/aithassouneyouness/Desktop/chatpoeatry\" --KernelManager.autorestart=False --config=/var/folders/jg/pktw8l5s32xgj2428mt_gdxr0000gn/T/0140fe4b-93ec-42a8-ba4f-6cc6c7fdf1a0/jupyter_notebook_config.py --NotebookApp.iopub_data_rate_limit=10000000000.0. \n",
      "View Jupyter <a href='command:jupyter.viewOutput'>log</a> for further details."
     ]
    }
   ],
   "source": [
    "class PoetryChain:\n",
    "    def __init__(self, model_name=\"gpt2\"):\n",
    "        self.model_name = model_name\n",
    "        \n",
    "        if model_name == \"gpt2\":\n",
    "            self.tokenizer = GPT2Tokenizer.from_pretrained(model_name)\n",
    "            self.model = GPT2LMHeadModel.from_pretrained(model_name)\n",
    "        elif model_name == \"gpt-neo\":\n",
    "            self.tokenizer = GPT2Tokenizer.from_pretrained(\"EleutherAI/gpt-neo-125M\")\n",
    "            self.model = GPTNeoForCausalLM.from_pretrained(\"EleutherAI/gpt-neo-125M\")\n",
    "        \n",
    "        \n",
    "        self.model.eval()\n",
    "\n",
    "    def processing_prompt(self, user_input):\n",
    "        processed_prompt = f'''Write a beautiful and expressive poem based in what the user want : \n",
    "        user query : {user_input}.\n",
    "        '''\n",
    "        return processed_prompt\n",
    "\n",
    "\n",
    "    def generate_poem(self, prompt, max_length=50):\n",
    "        processed_prompt = self.processing_prompt(prompt)\n",
    "\n",
    "        inputs = self.tokenizer.encode(processed_prompt, return_tensors='pt')\n",
    "        with torch.no_grad():\n",
    "            outputs = self.model.generate(inputs, max_length=max_length, num_return_sequences=1)\n",
    "\n",
    "        generated_text = self.tokenizer.decode(outputs[0], skip_special_tokens=True)\n",
    "        return generated_text\n",
    "        "
   ]
  },
  {
   "cell_type": "code",
   "execution_count": null,
   "metadata": {},
   "outputs": [],
   "source": []
  }
 ],
 "metadata": {
  "interpreter": {
   "hash": "5547e21c135af32ace900b1bdde73b337fb0fba47ba3962dc211b716bc2e87c0"
  },
  "kernelspec": {
   "display_name": "Python 3.11.5 ('venv': venv)",
   "language": "python",
   "name": "python3"
  },
  "language_info": {
   "name": "python",
   "version": "3.11.5"
  },
  "orig_nbformat": 4
 },
 "nbformat": 4,
 "nbformat_minor": 2
}
